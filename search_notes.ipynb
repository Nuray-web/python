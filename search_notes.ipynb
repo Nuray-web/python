{
 "cells": [
  {
   "cell_type": "code",
   "execution_count": 1,
   "id": "9e9f1b0d",
   "metadata": {},
   "outputs": [
    {
     "name": "stdout",
     "output_type": "stream",
     "text": [
      "62\n",
      "\n",
      "Enter the element : ZR903501           QA150110  TG803832  MK622A32 2744112 2744912 2745112 2744312 2744712 2744512 4090128 4090130 4090124 4090126 4090120 4090122 4090118 4212924 4212926 4212928 4166928 4166926 4166628 4166924 4166128 4166126 4166124 4166122 4166120 4166522 4192224 4192628 4192128 4192126 4192124 4192525 4131820 4131810 4206124 4206126 4206128 4206522 4206628 4170224 4170928 4170924 4170926 4170128 4170126 4170124 4170522 4182224 4182628 4182128 4182126 4182124 4182122 4182120 4166224 PU4026 VF2310F0  BJ551B10 \n"
     ]
    }
   ],
   "source": [
    "n = int(input())\n",
    "products = list(map(str,input(\"\\nEnter the element : \").strip().split()))[:n]"
   ]
  },
  {
   "cell_type": "code",
   "execution_count": 3,
   "id": "e89f0e83",
   "metadata": {},
   "outputs": [
    {
     "data": {
      "text/plain": [
       "['ZR903501',\n",
       " 'QA150110',\n",
       " 'TG803832',\n",
       " 'MK622A32',\n",
       " '2744112',\n",
       " '2744912',\n",
       " '2745112',\n",
       " '2744312',\n",
       " '2744712',\n",
       " '2744512',\n",
       " '4090128',\n",
       " '4090130',\n",
       " '4090124',\n",
       " '4090126',\n",
       " '4090120',\n",
       " '4090122',\n",
       " '4090118',\n",
       " '4212924',\n",
       " '4212926',\n",
       " '4212928',\n",
       " '4166928',\n",
       " '4166926',\n",
       " '4166628',\n",
       " '4166924',\n",
       " '4166128',\n",
       " '4166126',\n",
       " '4166124',\n",
       " '4166122',\n",
       " '4166120',\n",
       " '4166522',\n",
       " '4192224',\n",
       " '4192628',\n",
       " '4192128',\n",
       " '4192126',\n",
       " '4192124',\n",
       " '4192525',\n",
       " '4131820',\n",
       " '4131810',\n",
       " '4206124',\n",
       " '4206126',\n",
       " '4206128',\n",
       " '4206522',\n",
       " '4206628',\n",
       " '4170224',\n",
       " '4170928',\n",
       " '4170924',\n",
       " '4170926',\n",
       " '4170128',\n",
       " '4170126',\n",
       " '4170124',\n",
       " '4170522',\n",
       " '4182224',\n",
       " '4182628',\n",
       " '4182128',\n",
       " '4182126',\n",
       " '4182124',\n",
       " '4182122',\n",
       " '4182120',\n",
       " '4166224',\n",
       " 'PU4026',\n",
       " 'VF2310F0',\n",
       " 'BJ551B10']"
      ]
     },
     "execution_count": 3,
     "metadata": {},
     "output_type": "execute_result"
    }
   ],
   "source": [
    "products"
   ]
  },
  {
   "cell_type": "code",
   "execution_count": 4,
   "id": "58f45bc3",
   "metadata": {},
   "outputs": [],
   "source": [
    "import urllib.request\n",
    "from selenium import webdriver\n",
    "import time\n",
    "from selenium.webdriver.common.by import By"
   ]
  },
  {
   "cell_type": "code",
   "execution_count": 5,
   "id": "31f339d1",
   "metadata": {},
   "outputs": [
    {
     "name": "stderr",
     "output_type": "stream",
     "text": [
      "C:\\Users\\nsyrymbet\\AppData\\Local\\Temp\\ipykernel_5680\\1380531621.py:1: DeprecationWarning: executable_path has been deprecated, please pass in a Service object\n",
      "  driver = webdriver.Chrome(\"C:/Users/nsyrymbet/Downloads/chromedriver_win32/chromedriver.exe\")\n"
     ]
    }
   ],
   "source": [
    "driver = webdriver.Chrome(\"C:/Users/nsyrymbet/Downloads/chromedriver_win32/chromedriver.exe\")\n",
    "\n",
    "for product in products:\n",
    "    driver.get(\"https://www.google.kz/imghp?hl=ru&authuser=0&ogbl\")\n",
    "\n",
    "    input_name = driver.find_element(By.XPATH, \"//input\")\n",
    "    input_name.send_keys(product)\n",
    "\n",
    "    search_button = driver.find_element(By.XPATH, \"//button[@type = 'submit']\")\n",
    "    search_button.click()\n",
    "\n",
    "    pic = driver.find_element(By.XPATH, \"//img[@class = 'rg_i Q4LuWd']\")\n",
    "    src = pic.get_attribute('src')\n",
    "\n",
    "    urllib.request.urlretrieve(src, product+\".jpeg\")\n",
    "\n",
    "time.sleep(10)\n",
    "\n",
    "driver.close()"
   ]
  },
  {
   "cell_type": "code",
   "execution_count": null,
   "id": "f425b8e4",
   "metadata": {},
   "outputs": [],
   "source": []
  }
 ],
 "metadata": {
  "kernelspec": {
   "display_name": "Python 3 (ipykernel)",
   "language": "python",
   "name": "python3"
  },
  "language_info": {
   "codemirror_mode": {
    "name": "ipython",
    "version": 3
   },
   "file_extension": ".py",
   "mimetype": "text/x-python",
   "name": "python",
   "nbconvert_exporter": "python",
   "pygments_lexer": "ipython3",
   "version": "3.10.5"
  }
 },
 "nbformat": 4,
 "nbformat_minor": 5
}
